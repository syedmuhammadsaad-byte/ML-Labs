{
  "nbformat": 4,
  "nbformat_minor": 0,
  "metadata": {
    "colab": {
      "provenance": []
    },
    "kernelspec": {
      "name": "python3",
      "display_name": "Python 3"
    },
    "language_info": {
      "name": "python"
    }
  },
  "cells": [
    {
      "cell_type": "code",
      "execution_count": 64,
      "metadata": {
        "id": "YHY2fIgsK_GC"
      },
      "outputs": [],
      "source": [
        "import csv\n",
        "import random\n",
        "import math\n",
        "import matplotlib.pyplot as plt"
      ]
    },
    {
      "cell_type": "code",
      "source": [
        "def read_csv(file_name):\n",
        "    with open(file_name, 'r') as file:\n",
        "        reader = csv.reader(file)\n",
        "        header = next(reader)\n",
        "        data = []\n",
        "        for row in reader:\n",
        "            data.append([float(value) for value in row])\n",
        "    return data"
      ],
      "metadata": {
        "id": "RXFaKkzLPpSp"
      },
      "execution_count": 65,
      "outputs": []
    },
    {
      "cell_type": "code",
      "source": [
        "def read_csv1(file_name):\n",
        "    with open(file_name, 'r') as file:\n",
        "        reader = csv.reader(file)\n",
        "        header = next(reader)\n",
        "        data = []\n",
        "        true_labels = []\n",
        "        for row in reader:\n",
        "            true_labels.append(int(row[0]))\n",
        "            features = [float(value) for value in row[2:]]\n",
        "            data.append(features)\n",
        "    return data, true_labels"
      ],
      "metadata": {
        "id": "ZMM9hZJ8W9TW"
      },
      "execution_count": 66,
      "outputs": []
    },
    {
      "cell_type": "code",
      "source": [
        "def euclidean_distance(p1, p2):\n",
        "    return math.sqrt(sum((x - y) ** 2 for x, y in zip(p1, p2)))"
      ],
      "metadata": {
        "id": "Afb4BozvPuhT"
      },
      "execution_count": 67,
      "outputs": []
    },
    {
      "cell_type": "code",
      "source": [
        "def initialize_centroids(data, k):\n",
        "    return random.sample(data, k)"
      ],
      "metadata": {
        "id": "jk6Uy4wPPwji"
      },
      "execution_count": 68,
      "outputs": []
    },
    {
      "cell_type": "code",
      "source": [
        "def assign_clusters(data, centroids):\n",
        "    clusters = [[] for _ in centroids]\n",
        "    for point in data:\n",
        "        distances = [euclidean_distance(point, centroid) for centroid in centroids]\n",
        "        closest_centroid_index = distances.index(min(distances))\n",
        "        clusters[closest_centroid_index].append(point)\n",
        "    return clusters"
      ],
      "metadata": {
        "id": "IlO1IMRZPzIi"
      },
      "execution_count": 69,
      "outputs": []
    },
    {
      "cell_type": "code",
      "source": [
        "def update_centroids(clusters):\n",
        "    new_centroids = []\n",
        "    for cluster in clusters:\n",
        "        if cluster:\n",
        "            new_centroid = [sum(dim) / len(cluster) for dim in zip(*cluster)]\n",
        "            new_centroids.append(new_centroid)\n",
        "        else:\n",
        "            new_centroids.append(random.choice(cluster))\n",
        "    return new_centroids"
      ],
      "metadata": {
        "id": "Y2nAZ5Z9P04i"
      },
      "execution_count": 70,
      "outputs": []
    },
    {
      "cell_type": "code",
      "source": [
        "def kmeans(data, k, m_iterations=80):\n",
        "    centroids = initialize_centroids(data, k)\n",
        "    for _ in range(m_iterations):\n",
        "        clusters = assign_clusters(data, centroids)\n",
        "        new_centroids = update_centroids(clusters)\n",
        "        if new_centroids == centroids:\n",
        "            break\n",
        "        centroids = new_centroids\n",
        "    return centroids, clusters"
      ],
      "metadata": {
        "id": "c8oUHyPhQCIi"
      },
      "execution_count": 71,
      "outputs": []
    },
    {
      "cell_type": "code",
      "source": [
        "def calculate_inertia(data, centroids, clusters):\n",
        "    inertia = 0\n",
        "    for i, cluster in enumerate(clusters):\n",
        "        for point in cluster:\n",
        "            inertia += euclidean_distance(point, centroids[i]) ** 2\n",
        "    return inertia"
      ],
      "metadata": {
        "id": "LWRAalbxQEWC"
      },
      "execution_count": 72,
      "outputs": []
    },
    {
      "cell_type": "code",
      "source": [
        "def elbow_method(data, max_k=10):\n",
        "    inertias = []\n",
        "    for k in range(1, max_k + 1):\n",
        "        centroids, clusters = kmeans(data, k)\n",
        "        inertia = calculate_inertia(data, centroids, clusters)\n",
        "        inertias.append(inertia)\n",
        "\n",
        "    plt.plot(range(1, max_k + 1), inertias, marker='o')\n",
        "    plt.title('Elbow Method For Optimal K')\n",
        "    plt.xlabel('Number of Clusters (K)')\n",
        "    plt.ylabel('Inertia')\n",
        "    plt.show()\n",
        "\n",
        "    inertia_diffs = [inertias[i] - inertias[i - 1] for i in range(1, len(inertias))]\n",
        "    largest_drop_index = inertia_diffs.index(max(inertia_diffs)) + 1  # +1 to match actual k value\n",
        "    return largest_drop_index, inertias"
      ],
      "metadata": {
        "id": "U8R9Qfj1QIsi"
      },
      "execution_count": 73,
      "outputs": []
    },
    {
      "cell_type": "code",
      "source": [
        "def silhouette_score(data, labels):\n",
        "    num_samples = len(data)\n",
        "    unique_labels = set(labels)\n",
        "    silhouette_scores = []\n",
        "\n",
        "    for i in range(num_samples):\n",
        "        point = data[i]\n",
        "        cluster_label = labels[i]\n",
        "\n",
        "        same_cluster_points = [data[j] for j in range(num_samples) if labels[j] == cluster_label and j != i]\n",
        "        a_i = sum(euclidean_distance(point, other_point) for other_point in same_cluster_points) / len(same_cluster_points)\n",
        "\n",
        "        nearest_cluster_distances = []\n",
        "        for label in unique_labels:\n",
        "            if label != cluster_label:\n",
        "                other_cluster_points = [data[j] for j in range(num_samples) if labels[j] == label]\n",
        "                b_i = sum(euclidean_distance(point, other_point) for other_point in other_cluster_points) / len(other_cluster_points)\n",
        "                nearest_cluster_distances.append(b_i)\n",
        "\n",
        "        b_i = min(nearest_cluster_distances)\n",
        "\n",
        "        silhouette_i = (b_i - a_i) / max(a_i, b_i)\n",
        "        silhouette_scores.append(silhouette_i)\n",
        "\n",
        "    return sum(silhouette_scores) / len(silhouette_scores)\n"
      ],
      "metadata": {
        "id": "xzOGsRRRQSfC"
      },
      "execution_count": 74,
      "outputs": []
    },
    {
      "cell_type": "code",
      "source": [
        "def davies_bouldin_index(data, labels, centroids):\n",
        "    from collections import defaultdict\n",
        "\n",
        "    cluster_dict = defaultdict(list)\n",
        "    for point, label in zip(data, labels):\n",
        "        cluster_dict[label].append(point)\n",
        "\n",
        "    S = []\n",
        "    for i in range(len(centroids)):\n",
        "        points_i = cluster_dict[i]\n",
        "        if points_i:\n",
        "            s_i = sum(euclidean_distance(p, centroids[i]) for p in points_i) / len(points_i)\n",
        "            S.append(s_i)\n",
        "        else:\n",
        "            S.append(0)\n",
        "\n",
        "    db_indexes = []\n",
        "    for i in range(len(centroids)):\n",
        "        max_rij = -float('inf')\n",
        "        for j in range(len(centroids)):\n",
        "            if i != j:\n",
        "                M_ij = euclidean_distance(centroids[i], centroids[j])\n",
        "                if M_ij != 0:\n",
        "                    R_ij = (S[i] + S[j]) / M_ij\n",
        "                    max_rij = max(max_rij, R_ij)\n",
        "        db_indexes.append(max_rij)\n",
        "\n",
        "    return sum(db_indexes) / len(db_indexes)"
      ],
      "metadata": {
        "id": "JWoNUSfEJUQB"
      },
      "execution_count": 75,
      "outputs": []
    },
    {
      "cell_type": "code",
      "source": [
        "def calinski_harabasz_index(data, labels, centroids):\n",
        "    from collections import defaultdict\n",
        "\n",
        "    n_samples = len(data)\n",
        "    k = len(centroids)\n",
        "    overall_mean = [sum(dim) / n_samples for dim in zip(*data)]\n",
        "\n",
        "    cluster_dict = defaultdict(list)\n",
        "    for point, label in zip(data, labels):\n",
        "        cluster_dict[label].append(point)\n",
        "\n",
        "    B = 0\n",
        "    for i, centroid in enumerate(centroids):\n",
        "        n_i = len(cluster_dict[i])\n",
        "        dist = euclidean_distance(centroid, overall_mean)\n",
        "        B += n_i * dist ** 2\n",
        "\n",
        "    W = 0\n",
        "    for i, points in cluster_dict.items():\n",
        "        for point in points:\n",
        "            W += euclidean_distance(point, centroids[i]) ** 2\n",
        "\n",
        "    if W == 0 or k == 1:\n",
        "        return 0\n",
        "\n",
        "    return (B / (k - 1)) / (W / (n_samples - k))"
      ],
      "metadata": {
        "id": "PIewcnh0JWm4"
      },
      "execution_count": 76,
      "outputs": []
    },
    {
      "cell_type": "code",
      "source": [
        "def adjusted_rand_score(true_labels, predicted_labels):\n",
        "    from collections import Counter\n",
        "    from math import comb\n",
        "\n",
        "    n = len(true_labels)\n",
        "    if n != len(predicted_labels):\n",
        "        raise ValueError(\"Label lists must be of same length.\")\n",
        "\n",
        "    label_pairs = list(zip(true_labels, predicted_labels))\n",
        "    contingency = {}\n",
        "    for t, p in label_pairs:\n",
        "        contingency[(t, p)] = contingency.get((t, p), 0) + 1\n",
        "\n",
        "    true_label_counts = Counter(true_labels)\n",
        "    pred_label_counts = Counter(predicted_labels)\n",
        "\n",
        "    sum_comb_c = sum(comb(count, 2) for count in contingency.values())\n",
        "    sum_comb_true = sum(comb(count, 2) for count in true_label_counts.values())\n",
        "    sum_comb_pred = sum(comb(count, 2) for count in pred_label_counts.values())\n",
        "\n",
        "    expected_index = sum_comb_true * sum_comb_pred / comb(n, 2)\n",
        "    max_index = 0.5 * (sum_comb_true + sum_comb_pred)\n",
        "    ari = (sum_comb_c - expected_index) / (max_index - expected_index) if max_index != expected_index else 1.0\n",
        "\n",
        "    return ari"
      ],
      "metadata": {
        "id": "QS42V__bXj-F"
      },
      "execution_count": 77,
      "outputs": []
    },
    {
      "cell_type": "code",
      "source": [
        "def main():\n",
        "    #Given dataset\n",
        "    print(\"LAB_VEHICLE:\")\n",
        "    print(\"------------------------\")\n",
        "    file_name = \"/content/lab_vehicle.csv\"\n",
        "    data = read_csv(file_name)\n",
        "\n",
        "    inertias = elbow_method(data, max_k=10)\n",
        "\n",
        "    k = 2\n",
        "    centroids, clusters = kmeans(data, k)\n",
        "\n",
        "    labels = [cluster_idx for cluster_idx, cluster in enumerate(clusters) for _ in cluster]\n",
        "\n",
        "    score = silhouette_score(data, labels)\n",
        "    print(f\"Silhouette Score for K={k}: {score}\")\n",
        "\n",
        "    dbi = davies_bouldin_index(data, labels, centroids)\n",
        "    print(f\"Davies-Bouldin Index for K={k}: {dbi}\")\n",
        "\n",
        "    chi = calinski_harabasz_index(data, labels, centroids)\n",
        "    print(f\"Calinski-Harabasz Index for K={k}: {chi}\")\n",
        "\n",
        "    print(f\"Centroids for K={k}:\")\n",
        "    for i, centroid in enumerate(centroids):\n",
        "        print(f\"Centroid {i + 1}: {centroid}\")\n",
        "\n",
        "    print(f\"\\nCluster assignments for K={k}:\")\n",
        "    for i, cluster in enumerate(clusters):\n",
        "        print(f\"Cluster {i + 1} ({len(cluster)} points): {cluster[:3]}...\")\n",
        "\n",
        "    #Own Dataset\n",
        "    print(\"WHOLESALE CUSTOMER DATA:\")\n",
        "    print(\"-------------------------\")\n",
        "    file_name = \"/content/Wholesale customers data.csv\"\n",
        "    data, true_labels = read_csv1(file_name)\n",
        "\n",
        "    inertias = elbow_method(data, max_k=10)\n",
        "\n",
        "    k = 4\n",
        "    centroids, clusters = kmeans(data, k)\n",
        "\n",
        "    labels = [cluster_idx for cluster_idx, cluster in enumerate(clusters) for _ in cluster]\n",
        "\n",
        "    score = silhouette_score(data, labels)\n",
        "    print(f\"Silhouette Score for K={k}: {score}\")\n",
        "\n",
        "    dbi = davies_bouldin_index(data, labels, centroids)\n",
        "    print(f\"Davies-Bouldin Index for K={k}: {dbi}\")\n",
        "\n",
        "    chi = calinski_harabasz_index(data, labels, centroids)\n",
        "    print(f\"Calinski-Harabasz Index for K={k}: {chi}\")\n",
        "\n",
        "    ari = adjusted_rand_score(true_labels, labels)\n",
        "    print(f\"Adjusted Rand Index for K={k}: {ari}\")\n",
        "\n",
        "    print(f\"Centroids for K={k}:\")\n",
        "    for i, centroid in enumerate(centroids):\n",
        "        print(f\"Centroid {i + 1}: {centroid}\")\n",
        "\n",
        "    print(f\"\\nCluster assignments for K={k}:\")\n",
        "    for i, cluster in enumerate(clusters):\n",
        "        print(f\"Cluster {i + 1} ({len(cluster)} points): {cluster[:3]}...\")\n",
        "\n",
        "\n",
        "if __name__ == \"__main__\":\n",
        "    main()"
      ],
      "metadata": {
        "colab": {
          "base_uri": "https://localhost:8080/",
          "height": 1000
        },
        "id": "V09Gf2NeQQQC",
        "outputId": "b3b644f6-8859-4240-aaff-2cc8a220d2df"
      },
      "execution_count": 78,
      "outputs": [
        {
          "output_type": "stream",
          "name": "stdout",
          "text": [
            "LAB_VEHICLE:\n",
            "------------------------\n"
          ]
        },
        {
          "output_type": "display_data",
          "data": {
            "text/plain": [
              "<Figure size 640x480 with 1 Axes>"
            ],
            "image/png": "[encoded data removed]"
          },
          "metadata": {}
        },
        {
          "output_type": "stream",
          "name": "stdout",
          "text": [
            "Silhouette Score for K=2: -0.007213821537093545\n",
            "Davies-Bouldin Index for K=2: 1.283991443130976\n",
            "Calinski-Harabasz Index for K=2: 342.0013796162399\n",
            "Centroids for K=2:\n",
            "Centroid 1: [102.88888888888889, 51.738351254480285, 100.81362007168458, 201.20071684587813, 62.4910394265233, 9.508960573476703, 210.831541218638, 31.60931899641577, 23.8673835125448, 162.99641577060933, 225.584229390681, 664.4444444444445, 207.78494623655914, 71.65591397849462, 7.129032258064516, 15.010752688172044, 189.1720430107527, 197.08243727598565]\n",
            "Centroid 2: [89.14638447971781, 41.47795414462081, 72.8747795414462, 153.06701940035273, 61.301587301587304, 8.10405643738977, 148.17636684303352, 45.52204585537919, 18.966490299823633, 140.61904761904762, 170.43915343915344, 329.4268077601411, 158.42504409171076, 72.85890652557319, 6.00705467372134, 11.412698412698413, 188.8148148148148, 194.91887125220458]\n",
            "\n",
            "Cluster assignments for K=2:\n",
            "Cluster 1 (279 points): [[104.0, 50.0, 106.0, 209.0, 66.0, 10.0, 207.0, 32.0, 23.0, 158.0, 223.0, 635.0, 220.0, 73.0, 14.0, 9.0, 188.0, 196.0], [107.0, 57.0, 106.0, 172.0, 50.0, 6.0, 255.0, 26.0, 28.0, 169.0, 280.0, 957.0, 264.0, 85.0, 5.0, 9.0, 181.0, 183.0], [93.0, 44.0, 98.0, 197.0, 62.0, 11.0, 183.0, 36.0, 22.0, 146.0, 202.0, 505.0, 152.0, 64.0, 4.0, 14.0, 195.0, 204.0]]...\n",
            "Cluster 2 (567 points): [[95.0, 48.0, 83.0, 178.0, 72.0, 10.0, 162.0, 42.0, 20.0, 159.0, 176.0, 379.0, 184.0, 70.0, 6.0, 16.0, 187.0, 197.0], [91.0, 41.0, 84.0, 141.0, 57.0, 9.0, 149.0, 45.0, 19.0, 143.0, 170.0, 330.0, 158.0, 72.0, 9.0, 14.0, 189.0, 199.0], [93.0, 41.0, 82.0, 159.0, 63.0, 9.0, 144.0, 46.0, 19.0, 143.0, 160.0, 309.0, 127.0, 63.0, 6.0, 10.0, 199.0, 207.0]]...\n",
            "WHOLESALE CUSTOMER DATA:\n",
            "-------------------------\n"
          ]
        },
        {
          "output_type": "display_data",
          "data": {
            "text/plain": [
              "<Figure size 640x480 with 1 Axes>"
            ],
            "image/png": "[encoded data removed]"
          },
          "metadata": {}
        },
        {
          "output_type": "stream",
          "name": "stdout",
          "text": [
            "Silhouette Score for K=4: -0.06519032131822748\n",
            "Davies-Bouldin Index for K=4: 1.912499149207735\n",
            "Calinski-Harabasz Index for K=4: 53.77129057649277\n",
            "Adjusted Rand Index for K=4: 0.05409967262323665\n",
            "Centroids for K=4:\n",
            "Centroid 1: [8149.836734693878, 18715.85714285714, 27756.591836734693, 2034.7142857142858, 12523.020408163266, 2282.1428571428573]\n",
            "Centroid 2: [47543.192307692305, 7026.884615384615, 6255.576923076923, 9412.653846153846, 943.1153846153846, 4250.153846153846]\n",
            "Centroid 3: [5411.675889328063, 4132.624505928854, 5573.387351778656, 2263.4664031620555, 1990.5256916996047, 1055.1699604743083]\n",
            "Centroid 4: [20317.071428571428, 3616.3125, 5051.580357142857, 3880.026785714286, 1125.9375, 1621.9285714285713]\n",
            "\n",
            "Cluster assignments for K=4:\n",
            "Cluster 1 (49 points): [[6006.0, 11093.0, 18881.0, 1159.0, 7425.0, 2098.0], [26373.0, 36423.0, 22019.0, 5154.0, 4337.0, 16523.0], [4113.0, 20484.0, 25957.0, 1158.0, 8604.0, 5206.0]]...\n",
            "Cluster 2 (26 points): [[43088.0, 2100.0, 2609.0, 1200.0, 1107.0, 823.0], [56159.0, 555.0, 902.0, 10002.0, 212.0, 2916.0], [40721.0, 3916.0, 5876.0, 532.0, 2587.0, 1278.0]]...\n",
            "Cluster 3 (253 points): [[12669.0, 9656.0, 7561.0, 214.0, 2674.0, 1338.0], [7057.0, 9810.0, 9568.0, 1762.0, 3293.0, 1776.0], [6353.0, 8808.0, 7684.0, 2405.0, 3516.0, 7844.0]]...\n",
            "Cluster 4 (112 points): [[13265.0, 1196.0, 4221.0, 6404.0, 507.0, 1788.0], [22615.0, 5410.0, 7198.0, 3915.0, 1777.0, 5185.0], [13146.0, 1124.0, 4523.0, 1420.0, 549.0, 497.0]]...\n"
          ]
        }
      ]
    },
    {
      "cell_type": "code",
      "source": [],
      "metadata": {
        "id": "aU2m4gP9YRe0"
      },
      "execution_count": 78,
      "outputs": []
    }
  ]
}