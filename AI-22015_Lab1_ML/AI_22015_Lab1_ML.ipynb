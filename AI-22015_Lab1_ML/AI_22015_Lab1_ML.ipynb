{
  "nbformat": 4,
  "nbformat_minor": 0,
  "metadata": {
    "colab": {
      "provenance": []
    },
    "kernelspec": {
      "name": "python3",
      "display_name": "Python 3"
    },
    "language_info": {
      "name": "python"
    }
  },
  "cells": [
    {
      "cell_type": "code",
      "source": [
        "import pandas as pd\n",
        "from sklearn.model_selection import train_test_split\n",
        "from sklearn.linear_model import LinearRegression\n",
        "from sklearn.metrics import mean_squared_error, r2_score\n",
        "import numpy as np\n",
        "import pickle\n",
        "\n",
        "file_path = '/content/multiple_linear_regression_dataset.csv'  # Path to the dataset\n",
        "data = pd.read_csv(file_path)\n",
        "\n",
        "print(\"Dataset Preview:\")\n",
        "print(data.head())\n",
        "\n",
        "print(\"\\nMissing Values Count:\")\n",
        "print(data.isnull().sum())\n",
        "\n",
        "data = data.dropna()\n",
        "\n",
        "target_column = data.columns[-1]\n",
        "X = data.drop(target_column, axis=1)\n",
        "y = data[target_column]\n",
        "\n",
        "X_train, X_test, y_train, y_test = train_test_split(X, y, test_size=0.2, random_state=42)\n",
        "\n",
        "model = LinearRegression()\n",
        "\n",
        "model.fit(X_train, y_train)\n",
        "\n",
        "y_pred = model.predict(X_test)\n",
        "\n",
        "mse = mean_squared_error(y_test, y_pred)\n",
        "rmse = np.sqrt(mse)\n",
        "r2 = r2_score(y_test, y_pred)\n",
        "\n",
        "print(\"\\nModel Evaluation:\")\n",
        "print(f\"Mean Squared Error (MSE): {mse:.2f}\")\n",
        "print(f\"Root Mean Squared Error (RMSE): {rmse:.2f}\")\n",
        "print(f\"R-squared (R2): {r2:.2f}\")\n",
        "\n",
        "model_filename = 'AI-22015_Lab1_ML.pkl'\n",
        "with open(model_filename, 'wb') as file:\n",
        "    pickle.dump(model, file)\n",
        "\n",
        "print(f\"\\nModel has been saved to {model_filename}\")\n",
        "\n",
        "with open(model_filename, 'rb') as file:\n",
        "    loaded_model = pickle.load(file)\n",
        "\n",
        "loaded_model_pred = loaded_model.predict(X_test)\n",
        "print(\"\\nPredictions with loaded model (first 5):\")\n",
        "print(loaded_model_pred[:5])\n",
        "\n"
      ],
      "metadata": {
        "colab": {
          "base_uri": "https://localhost:8080/"
        },
        "id": "kJhMNrQ5QAlj",
        "outputId": "fce42419-f16e-42cd-add7-8ffb2068ffd1"
      },
      "execution_count": 11,
      "outputs": [
        {
          "output_type": "stream",
          "name": "stdout",
          "text": [
            "Dataset Preview:\n",
            "   age  experience  income\n",
            "0   25           1   30450\n",
            "1   30           3   35670\n",
            "2   47           2   31580\n",
            "3   32           5   40130\n",
            "4   43          10   47830\n",
            "\n",
            "Missing Values Count:\n",
            "age           0\n",
            "experience    0\n",
            "income        0\n",
            "dtype: int64\n",
            "\n",
            "Model Evaluation:\n",
            "Mean Squared Error (MSE): 753796.77\n",
            "Root Mean Squared Error (RMSE): 868.21\n",
            "R-squared (R2): 0.94\n",
            "\n",
            "Model has been saved to AI-22015_Lab1_ML.pkl\n",
            "\n",
            "Predictions with loaded model (first 5):\n",
            "[31093.38107376 31295.49954076 40250.46080162 34897.6958918 ]\n"
          ]
        }
      ]
    }
  ]
}